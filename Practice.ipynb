{
 "cells": [
  {
   "cell_type": "code",
   "execution_count": 1,
   "id": "7e17bf5d-11b8-41b7-981e-f0963c113c32",
   "metadata": {},
   "outputs": [
    {
     "name": "stdout",
     "output_type": "stream",
     "text": [
      "15100\n"
     ]
    }
   ],
   "source": [
    "sal=15000\n",
    "ad_hike=100\n",
    "print(sal+ad_hike)"
   ]
  },
  {
   "cell_type": "code",
   "execution_count": 2,
   "id": "6aa40839-2d97-476e-bc63-9feb8da1ed6c",
   "metadata": {},
   "outputs": [
    {
     "name": "stdout",
     "output_type": "stream",
     "text": [
      "14900\n"
     ]
    }
   ],
   "source": [
    "sal=15000\n",
    "ad_hike=100\n",
    "print(sal-ad_hike)"
   ]
  },
  {
   "cell_type": "code",
   "execution_count": 6,
   "id": "76f53d3f-220c-4ba3-99fe-7f67803a06bb",
   "metadata": {},
   "outputs": [
    {
     "name": "stdout",
     "output_type": "stream",
     "text": [
      "1.3333333333333333\n"
     ]
    }
   ],
   "source": [
    "x=20\n",
    "y=15\n",
    "print(x/y)"
   ]
  },
  {
   "cell_type": "code",
   "execution_count": 7,
   "id": "bca85c5c-cf77-432c-a95f-1038a4d650ac",
   "metadata": {},
   "outputs": [
    {
     "name": "stdout",
     "output_type": "stream",
     "text": [
      "1\n"
     ]
    }
   ],
   "source": [
    "x=20\n",
    "y=15\n",
    "print(x//y)"
   ]
  },
  {
   "cell_type": "code",
   "execution_count": 8,
   "id": "013da366-e4fe-4996-9267-28614c038eb8",
   "metadata": {},
   "outputs": [
    {
     "name": "stdout",
     "output_type": "stream",
     "text": [
      "200\n"
     ]
    }
   ],
   "source": [
    "x=10\n",
    "y=20\n",
    "print(x*y)"
   ]
  },
  {
   "cell_type": "markdown",
   "id": "ea2942a5-ca6d-4167-84a3-242b8f45eef6",
   "metadata": {},
   "source": [
    "## Comparision Operator"
   ]
  },
  {
   "cell_type": "code",
   "execution_count": 14,
   "id": "2c7c2389-f689-4fc0-a537-e3c12b2315c4",
   "metadata": {},
   "outputs": [
    {
     "name": "stdout",
     "output_type": "stream",
     "text": [
      "salary cutoff is: False\n"
     ]
    }
   ],
   "source": [
    "sal=10000\n",
    "gst=100\n",
    "print(f\"salary cutoff is: {sal<1000}\")"
   ]
  },
  {
   "cell_type": "code",
   "execution_count": 15,
   "id": "bfb63230-6e45-46c1-be16-7ba35200c8ba",
   "metadata": {},
   "outputs": [
    {
     "name": "stdout",
     "output_type": "stream",
     "text": [
      "salary cutoff is: True\n"
     ]
    }
   ],
   "source": [
    "sal=10000\n",
    "gst=100\n",
    "print(f\"salary cutoff is: {sal>1000}\")"
   ]
  },
  {
   "cell_type": "code",
   "execution_count": 35,
   "id": "03e9af40-000e-471a-8550-ef5dda58ac3a",
   "metadata": {},
   "outputs": [
    {
     "name": "stdout",
     "output_type": "stream",
     "text": [
      "assingnment operator, 1200\n",
      "assingnment operator, 1300\n",
      "assingnment operator, 1100\n",
      "assingnment operator, 11.0\n",
      "assingnment operator, 0.0\n",
      "assingnment operator, 0.0\n",
      "assingnment operator, 0.0\n",
      "assingnment operator, 4\n"
     ]
    }
   ],
   "source": [
    "bill=1200\n",
    "print(f\"assingnment operator, {bill}\")\n",
    "bill+=100\n",
    "print(f\"assingnment operator, {bill}\")\n",
    "bill-=200\n",
    "print(f\"assingnment operator, {bill}\")\n",
    "bill/=100\n",
    "print(f\"assingnment operator, {bill}\")\n",
    "bill//=100\n",
    "print(f\"assingnment operator, {bill}\")\n",
    "bill%=100\n",
    "print(f\"assingnment operator, {bill}\")\n",
    "bill*=100\n",
    "print(f\"assingnment operator, {bill}\")\n",
    "x=2\n",
    "x **=2\n",
    "print(f\"assingnment operator, {x}\")"
   ]
  },
  {
   "cell_type": "code",
   "execution_count": 22,
   "id": "21a66d04-9499-4768-a399-416b5a1c2272",
   "metadata": {},
   "outputs": [
    {
     "name": "stdin",
     "output_type": "stream",
     "text": [
      "Enter User name:  ddtd\n",
      "Enter password:  sdtr\n"
     ]
    },
    {
     "name": "stdout",
     "output_type": "stream",
     "text": [
      "Go to username reset page: False \n",
      "Go to password reset page: False\n",
      "Is login success: False\n",
      "This is an error:True\n"
     ]
    }
   ],
   "source": [
    "user_name = input(\"Enter User name: \") # \"vj\"\n",
    "password = input(\"Enter password: \") # \"rrr\"\n",
    "\n",
    "print(f\"Go to username reset page: { user_name!='vj' and password=='rrr'} \")\n",
    "print(f\"Go to password reset page: {user_name=='vj' and password!='rrr'}\")\n",
    "print(f\"Is login success: {user_name=='vj' and password=='rrr'}\")\n",
    "print(f\"This is an error:{user_name!='vj' and password!='rrr'}\")"
   ]
  },
  {
   "cell_type": "code",
   "execution_count": 38,
   "id": "c236055b-aed8-4cb4-bf8a-c0e9147b1ab6",
   "metadata": {},
   "outputs": [
    {
     "name": "stdin",
     "output_type": "stream",
     "text": [
      "Enter the age: 12\n"
     ]
    },
    {
     "name": "stdout",
     "output_type": "stream",
     "text": [
      "candidate not eligible\n"
     ]
    }
   ],
   "source": [
    "age=int(input(\"Enter the age:\"))\n",
    "if age>=18:\n",
    "    print(f\"candidate is eligible for vote\")\n",
    "else:\n",
    "    print(f\"candidate not eligible\")"
   ]
  },
  {
   "cell_type": "code",
   "execution_count": 39,
   "id": "a1a0e159-d916-4d7d-8894-92bc3774bb67",
   "metadata": {},
   "outputs": [
    {
     "name": "stdin",
     "output_type": "stream",
     "text": [
      "Enter the age: SUPRIYA\n"
     ]
    },
    {
     "name": "stdout",
     "output_type": "stream",
     "text": [
      "wrong\n"
     ]
    }
   ],
   "source": [
    "name=(input(\"Enter the age:\"))\n",
    "if age==\"supriya\":\n",
    "    print(f\"correct\")\n",
    "else:\n",
    "    print(f\"wrong\")"
   ]
  },
  {
   "cell_type": "code",
   "execution_count": 3,
   "id": "17b9464a-bd84-4b04-882f-db06903c201b",
   "metadata": {},
   "outputs": [
    {
     "name": "stdout",
     "output_type": "stream",
     "text": [
      "end string\n",
      "end string\n",
      "end string\n",
      "end string\n",
      "end string\n",
      "end string\n",
      "end string\n",
      "end string\n",
      "end string\n",
      "end string\n",
      "end string\n",
      "end string\n",
      "end string\n",
      "end string\n",
      "end string\n",
      "end string\n",
      "end string\n",
      "end string\n",
      "end string\n",
      "end string\n",
      "end string\n",
      "end string\n",
      "end string\n",
      "end string\n",
      "end string\n",
      "end string\n"
     ]
    }
   ],
   "source": [
    "input=\"kiran suresh madhu supriya\"\n",
    "\n",
    "for char_name in input:\n",
    "  if input==\" \": print()\n",
    "  else:print(\"end string\")"
   ]
  },
  {
   "cell_type": "code",
   "execution_count": null,
   "id": "f990a007-fb8e-46d4-ba1d-01741870c295",
   "metadata": {},
   "outputs": [],
   "source": []
  }
 ],
 "metadata": {
  "kernelspec": {
   "display_name": "Python 3 (ipykernel)",
   "language": "python",
   "name": "python3"
  },
  "language_info": {
   "codemirror_mode": {
    "name": "ipython",
    "version": 3
   },
   "file_extension": ".py",
   "mimetype": "text/x-python",
   "name": "python",
   "nbconvert_exporter": "python",
   "pygments_lexer": "ipython3",
   "version": "3.11.7"
  }
 },
 "nbformat": 4,
 "nbformat_minor": 5
}
