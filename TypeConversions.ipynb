{
 "cells": [
  {
   "cell_type": "markdown",
   "id": "768df510-ca34-4f9c-9384-ffd359f9e5a6",
   "metadata": {},
   "source": [
    "## Integer Conversion"
   ]
  },
  {
   "cell_type": "code",
   "execution_count": 4,
   "id": "f41ce42e-b488-4c8a-ae2c-f7dcdebbfbf7",
   "metadata": {},
   "outputs": [
    {
     "name": "stdout",
     "output_type": "stream",
     "text": [
      "16.0\n"
     ]
    }
   ],
   "source": [
    "# integer to float\n",
    "int_value=16\n",
    "float_value=float(int_value)\n",
    "print(float_value)"
   ]
  },
  {
   "cell_type": "code",
   "execution_count": 2,
   "id": "56c0effa-4136-4fd1-b04c-914b8d74df56",
   "metadata": {},
   "outputs": [
    {
     "name": "stdout",
     "output_type": "stream",
     "text": [
      "(16+0j)\n"
     ]
    }
   ],
   "source": [
    "# integer to complex numbers\n",
    "int_value=16\n",
    "complex_value=complex(int_value)\n",
    "print(complex_value)"
   ]
  },
  {
   "cell_type": "code",
   "execution_count": null,
   "id": "ef09c351-7458-42b0-a06b-33edf311d060",
   "metadata": {},
   "outputs": [],
   "source": []
  }
 ],
 "metadata": {
  "kernelspec": {
   "display_name": "Python 3 (ipykernel)",
   "language": "python",
   "name": "python3"
  },
  "language_info": {
   "codemirror_mode": {
    "name": "ipython",
    "version": 3
   },
   "file_extension": ".py",
   "mimetype": "text/x-python",
   "name": "python",
   "nbconvert_exporter": "python",
   "pygments_lexer": "ipython3",
   "version": "3.11.7"
  }
 },
 "nbformat": 4,
 "nbformat_minor": 5
}
