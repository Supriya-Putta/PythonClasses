{
 "cells": [
  {
   "cell_type": "markdown",
   "id": "768df510-ca34-4f9c-9384-ffd359f9e5a6",
   "metadata": {},
   "source": [
    "## Integer Conversion"
   ]
  },
  {
   "cell_type": "code",
   "execution_count": 4,
   "id": "f41ce42e-b488-4c8a-ae2c-f7dcdebbfbf7",
   "metadata": {},
   "outputs": [
    {
     "name": "stdout",
     "output_type": "stream",
     "text": [
      "16.0\n"
     ]
    }
   ],
   "source": [
    "# integer to float\n",
    "int_value=16\n",
    "float_value=float(int_value)\n",
    "print(float_value)"
   ]
  },
  {
   "cell_type": "code",
   "execution_count": 2,
   "id": "56c0effa-4136-4fd1-b04c-914b8d74df56",
   "metadata": {},
   "outputs": [
    {
     "name": "stdout",
     "output_type": "stream",
     "text": [
      "(16+0j)\n"
     ]
    }
   ],
   "source": [
    "# integer to complex numbers\n",
    "int_value=16\n",
    "complex_value=complex(int_value)\n",
    "print(complex_value)"
   ]
  },
  {
   "cell_type": "code",
   "execution_count": 9,
   "id": "ef09c351-7458-42b0-a06b-33edf311d060",
   "metadata": {},
   "outputs": [
    {
     "name": "stdout",
     "output_type": "stream",
     "text": [
      "False\n",
      "True\n",
      "True\n"
     ]
    }
   ],
   "source": [
    "# integer to boolen\n",
    "int_value=0\n",
    "boolean_value=bool(int_value)\n",
    "print(boolean_value)\n",
    "\n",
    "int_value=10\n",
    "boolean_value=bool(int_value)\n",
    "print(boolean_value)\n",
    "\n",
    "int_value=-10\n",
    "boolean_value=bool(int_value)\n",
    "print(boolean_value)"
   ]
  },
  {
   "cell_type": "code",
   "execution_count": 11,
   "id": "ad2a6ec7-00ba-44c1-90df-b7f748982ca5",
   "metadata": {},
   "outputs": [
    {
     "name": "stdout",
     "output_type": "stream",
     "text": [
      "<class 'str'>\n"
     ]
    }
   ],
   "source": [
    "# integer to String\n",
    "int_value=4\n",
    "str_value=str(int_value)\n",
    "print(type(str_value))"
   ]
  },
  {
   "cell_type": "code",
   "execution_count": 15,
   "id": "fd1fbeaa-a56f-4bbb-a2aa-c360d52e8c8d",
   "metadata": {},
   "outputs": [
    {
     "ename": "TypeError",
     "evalue": "'int' object is not iterable",
     "output_type": "error",
     "traceback": [
      "\u001b[1;31m---------------------------------------------------------------------------\u001b[0m",
      "\u001b[1;31mTypeError\u001b[0m                                 Traceback (most recent call last)",
      "Cell \u001b[1;32mIn[15], line 3\u001b[0m\n\u001b[0;32m      1\u001b[0m \u001b[38;5;66;03m# integer to list\u001b[39;00m\n\u001b[0;32m      2\u001b[0m int_value\u001b[38;5;241m=\u001b[39m\u001b[38;5;241m28\u001b[39m\n\u001b[1;32m----> 3\u001b[0m list_value\u001b[38;5;241m=\u001b[39m\u001b[38;5;28mlist\u001b[39m(int_value)\n\u001b[0;32m      4\u001b[0m \u001b[38;5;28mprint\u001b[39m(list_value)\n",
      "\u001b[1;31mTypeError\u001b[0m: 'int' object is not iterable"
     ]
    }
   ],
   "source": [
    "# integer to list\n",
    "int_value=28\n",
    "list_value=list(int_value)\n",
    "print(list_value)"
   ]
  },
  {
   "cell_type": "code",
   "execution_count": 16,
   "id": "3c5647c1-a182-48d9-b49d-5b614b3cdea9",
   "metadata": {},
   "outputs": [
    {
     "ename": "TypeError",
     "evalue": "'int' object is not iterable",
     "output_type": "error",
     "traceback": [
      "\u001b[1;31m---------------------------------------------------------------------------\u001b[0m",
      "\u001b[1;31mTypeError\u001b[0m                                 Traceback (most recent call last)",
      "Cell \u001b[1;32mIn[16], line 3\u001b[0m\n\u001b[0;32m      1\u001b[0m \u001b[38;5;66;03m# integer to tuple\u001b[39;00m\n\u001b[0;32m      2\u001b[0m int_value\u001b[38;5;241m=\u001b[39m\u001b[38;5;241m28\u001b[39m\n\u001b[1;32m----> 3\u001b[0m tuple_value\u001b[38;5;241m=\u001b[39m\u001b[38;5;28mtuple\u001b[39m(int_value)\n\u001b[0;32m      4\u001b[0m \u001b[38;5;28mprint\u001b[39m(tuple_value)\n",
      "\u001b[1;31mTypeError\u001b[0m: 'int' object is not iterable"
     ]
    }
   ],
   "source": [
    "# integer to tuple\n",
    "int_value=28\n",
    "tuple_value=tuple(int_value)\n",
    "print(tuple_value)"
   ]
  },
  {
   "cell_type": "code",
   "execution_count": 14,
   "id": "301a7ac1-7dd2-4dca-a3a5-8fd604ae4246",
   "metadata": {},
   "outputs": [
    {
     "ename": "TypeError",
     "evalue": "'int' object is not iterable",
     "output_type": "error",
     "traceback": [
      "\u001b[1;31m---------------------------------------------------------------------------\u001b[0m",
      "\u001b[1;31mTypeError\u001b[0m                                 Traceback (most recent call last)",
      "Cell \u001b[1;32mIn[14], line 3\u001b[0m\n\u001b[0;32m      1\u001b[0m \u001b[38;5;66;03m# integer to set\u001b[39;00m\n\u001b[0;32m      2\u001b[0m int_value\u001b[38;5;241m=\u001b[39m\u001b[38;5;241m28\u001b[39m\n\u001b[1;32m----> 3\u001b[0m set_value\u001b[38;5;241m=\u001b[39m\u001b[38;5;28mset\u001b[39m(int_value)\n\u001b[0;32m      4\u001b[0m \u001b[38;5;28mprint\u001b[39m(set_value)\n",
      "\u001b[1;31mTypeError\u001b[0m: 'int' object is not iterable"
     ]
    }
   ],
   "source": [
    "# integer to set\n",
    "int_value=28\n",
    "set_value=set(int_value)\n",
    "print(set_value)"
   ]
  },
  {
   "cell_type": "code",
   "execution_count": 17,
   "id": "5c09b040-fb93-4dcf-b981-7fd17821d4c4",
   "metadata": {},
   "outputs": [
    {
     "ename": "TypeError",
     "evalue": "'int' object is not iterable",
     "output_type": "error",
     "traceback": [
      "\u001b[1;31m---------------------------------------------------------------------------\u001b[0m",
      "\u001b[1;31mTypeError\u001b[0m                                 Traceback (most recent call last)",
      "Cell \u001b[1;32mIn[17], line 3\u001b[0m\n\u001b[0;32m      1\u001b[0m \u001b[38;5;66;03m# integer to tuple\u001b[39;00m\n\u001b[0;32m      2\u001b[0m int_value\u001b[38;5;241m=\u001b[39m\u001b[38;5;241m28\u001b[39m\n\u001b[1;32m----> 3\u001b[0m dict_value\u001b[38;5;241m=\u001b[39m\u001b[38;5;28mdict\u001b[39m(int_value)\n\u001b[0;32m      4\u001b[0m \u001b[38;5;28mprint\u001b[39m(dict_value)\n",
      "\u001b[1;31mTypeError\u001b[0m: 'int' object is not iterable"
     ]
    }
   ],
   "source": [
    "# integer to dict\n",
    "int_value=28\n",
    "dict_value=dict(int_value)\n",
    "print(dict_value)"
   ]
  },
  {
   "cell_type": "code",
   "execution_count": null,
   "id": "771a4635-b05d-4f4e-881e-a0d1b3207861",
   "metadata": {},
   "outputs": [],
   "source": []
  }
 ],
 "metadata": {
  "kernelspec": {
   "display_name": "Python 3 (ipykernel)",
   "language": "python",
   "name": "python3"
  },
  "language_info": {
   "codemirror_mode": {
    "name": "ipython",
    "version": 3
   },
   "file_extension": ".py",
   "mimetype": "text/x-python",
   "name": "python",
   "nbconvert_exporter": "python",
   "pygments_lexer": "ipython3",
   "version": "3.11.7"
  }
 },
 "nbformat": 4,
 "nbformat_minor": 5
}
