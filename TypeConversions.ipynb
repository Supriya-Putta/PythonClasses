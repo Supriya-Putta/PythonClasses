{
 "cells": [
  {
   "cell_type": "markdown",
   "id": "768df510-ca34-4f9c-9384-ffd359f9e5a6",
   "metadata": {},
   "source": [
    "## Integer Conversion"
   ]
  },
  {
   "cell_type": "code",
   "execution_count": 4,
   "id": "f41ce42e-b488-4c8a-ae2c-f7dcdebbfbf7",
   "metadata": {},
   "outputs": [
    {
     "name": "stdout",
     "output_type": "stream",
     "text": [
      "16.0\n"
     ]
    }
   ],
   "source": [
    "# integer to float\n",
    "int_value=16\n",
    "float_value=float(int_value)\n",
    "print(float_value)"
   ]
  },
  {
   "cell_type": "code",
   "execution_count": 2,
   "id": "56c0effa-4136-4fd1-b04c-914b8d74df56",
   "metadata": {},
   "outputs": [
    {
     "name": "stdout",
     "output_type": "stream",
     "text": [
      "(16+0j)\n"
     ]
    }
   ],
   "source": [
    "# integer to complex numbers\n",
    "int_value=16\n",
    "complex_value=complex(int_value)\n",
    "print(complex_value)"
   ]
  },
  {
   "cell_type": "code",
   "execution_count": 9,
   "id": "ef09c351-7458-42b0-a06b-33edf311d060",
   "metadata": {},
   "outputs": [
    {
     "name": "stdout",
     "output_type": "stream",
     "text": [
      "False\n",
      "True\n",
      "True\n"
     ]
    }
   ],
   "source": [
    "# integer to boolen\n",
    "int_value=0\n",
    "boolean_value=bool(int_value)\n",
    "print(boolean_value)\n",
    "\n",
    "int_value=10\n",
    "boolean_value=bool(int_value)\n",
    "print(boolean_value)\n",
    "\n",
    "int_value=-10\n",
    "boolean_value=bool(int_value)\n",
    "print(boolean_value)"
   ]
  },
  {
   "cell_type": "code",
   "execution_count": 11,
   "id": "ad2a6ec7-00ba-44c1-90df-b7f748982ca5",
   "metadata": {},
   "outputs": [
    {
     "name": "stdout",
     "output_type": "stream",
     "text": [
      "<class 'str'>\n"
     ]
    }
   ],
   "source": [
    "# integer to String\n",
    "int_value=4\n",
    "str_value=str(int_value)\n",
    "print(type(str_value))"
   ]
  },
  {
   "cell_type": "code",
   "execution_count": 15,
   "id": "fd1fbeaa-a56f-4bbb-a2aa-c360d52e8c8d",
   "metadata": {},
   "outputs": [
    {
     "ename": "TypeError",
     "evalue": "'int' object is not iterable",
     "output_type": "error",
     "traceback": [
      "\u001b[1;31m---------------------------------------------------------------------------\u001b[0m",
      "\u001b[1;31mTypeError\u001b[0m                                 Traceback (most recent call last)",
      "Cell \u001b[1;32mIn[15], line 3\u001b[0m\n\u001b[0;32m      1\u001b[0m \u001b[38;5;66;03m# integer to list\u001b[39;00m\n\u001b[0;32m      2\u001b[0m int_value\u001b[38;5;241m=\u001b[39m\u001b[38;5;241m28\u001b[39m\n\u001b[1;32m----> 3\u001b[0m list_value\u001b[38;5;241m=\u001b[39m\u001b[38;5;28mlist\u001b[39m(int_value)\n\u001b[0;32m      4\u001b[0m \u001b[38;5;28mprint\u001b[39m(list_value)\n",
      "\u001b[1;31mTypeError\u001b[0m: 'int' object is not iterable"
     ]
    }
   ],
   "source": [
    "# integer to list\n",
    "int_value=28\n",
    "list_value=list(int_value)\n",
    "print(list_value)"
   ]
  },
  {
   "cell_type": "code",
   "execution_count": 16,
   "id": "3c5647c1-a182-48d9-b49d-5b614b3cdea9",
   "metadata": {},
   "outputs": [
    {
     "ename": "TypeError",
     "evalue": "'int' object is not iterable",
     "output_type": "error",
     "traceback": [
      "\u001b[1;31m---------------------------------------------------------------------------\u001b[0m",
      "\u001b[1;31mTypeError\u001b[0m                                 Traceback (most recent call last)",
      "Cell \u001b[1;32mIn[16], line 3\u001b[0m\n\u001b[0;32m      1\u001b[0m \u001b[38;5;66;03m# integer to tuple\u001b[39;00m\n\u001b[0;32m      2\u001b[0m int_value\u001b[38;5;241m=\u001b[39m\u001b[38;5;241m28\u001b[39m\n\u001b[1;32m----> 3\u001b[0m tuple_value\u001b[38;5;241m=\u001b[39m\u001b[38;5;28mtuple\u001b[39m(int_value)\n\u001b[0;32m      4\u001b[0m \u001b[38;5;28mprint\u001b[39m(tuple_value)\n",
      "\u001b[1;31mTypeError\u001b[0m: 'int' object is not iterable"
     ]
    }
   ],
   "source": [
    "# integer to tuple\n",
    "int_value=28\n",
    "tuple_value=tuple(int_value)\n",
    "print(tuple_value)"
   ]
  },
  {
   "cell_type": "code",
   "execution_count": 14,
   "id": "301a7ac1-7dd2-4dca-a3a5-8fd604ae4246",
   "metadata": {},
   "outputs": [
    {
     "ename": "TypeError",
     "evalue": "'int' object is not iterable",
     "output_type": "error",
     "traceback": [
      "\u001b[1;31m---------------------------------------------------------------------------\u001b[0m",
      "\u001b[1;31mTypeError\u001b[0m                                 Traceback (most recent call last)",
      "Cell \u001b[1;32mIn[14], line 3\u001b[0m\n\u001b[0;32m      1\u001b[0m \u001b[38;5;66;03m# integer to set\u001b[39;00m\n\u001b[0;32m      2\u001b[0m int_value\u001b[38;5;241m=\u001b[39m\u001b[38;5;241m28\u001b[39m\n\u001b[1;32m----> 3\u001b[0m set_value\u001b[38;5;241m=\u001b[39m\u001b[38;5;28mset\u001b[39m(int_value)\n\u001b[0;32m      4\u001b[0m \u001b[38;5;28mprint\u001b[39m(set_value)\n",
      "\u001b[1;31mTypeError\u001b[0m: 'int' object is not iterable"
     ]
    }
   ],
   "source": [
    "# integer to set\n",
    "int_value=28\n",
    "set_value=set(int_value)\n",
    "print(set_value)"
   ]
  },
  {
   "cell_type": "code",
   "execution_count": 17,
   "id": "5c09b040-fb93-4dcf-b981-7fd17821d4c4",
   "metadata": {},
   "outputs": [
    {
     "ename": "TypeError",
     "evalue": "'int' object is not iterable",
     "output_type": "error",
     "traceback": [
      "\u001b[1;31m---------------------------------------------------------------------------\u001b[0m",
      "\u001b[1;31mTypeError\u001b[0m                                 Traceback (most recent call last)",
      "Cell \u001b[1;32mIn[17], line 3\u001b[0m\n\u001b[0;32m      1\u001b[0m \u001b[38;5;66;03m# integer to tuple\u001b[39;00m\n\u001b[0;32m      2\u001b[0m int_value\u001b[38;5;241m=\u001b[39m\u001b[38;5;241m28\u001b[39m\n\u001b[1;32m----> 3\u001b[0m dict_value\u001b[38;5;241m=\u001b[39m\u001b[38;5;28mdict\u001b[39m(int_value)\n\u001b[0;32m      4\u001b[0m \u001b[38;5;28mprint\u001b[39m(dict_value)\n",
      "\u001b[1;31mTypeError\u001b[0m: 'int' object is not iterable"
     ]
    }
   ],
   "source": [
    "# integer to dict\n",
    "int_value=28\n",
    "dict_value=dict(int_value)\n",
    "print(dict_value)"
   ]
  },
  {
   "cell_type": "markdown",
   "id": "87fb80de-e235-4244-8be6-6030a5de1ea3",
   "metadata": {},
   "source": [
    "## Floating coversion"
   ]
  },
  {
   "cell_type": "code",
   "execution_count": 1,
   "id": "c0c197f1-e6f3-43d4-9a6f-37e6449a1b06",
   "metadata": {},
   "outputs": [
    {
     "name": "stdout",
     "output_type": "stream",
     "text": [
      "12\n"
     ]
    }
   ],
   "source": [
    "# float to integer\n",
    "float_value=12.6\n",
    "int_value=int(float_value)\n",
    "print(int_value)"
   ]
  },
  {
   "cell_type": "code",
   "execution_count": 2,
   "id": "d6707c00-ce3d-48bd-af88-1abb26a37594",
   "metadata": {},
   "outputs": [
    {
     "name": "stdout",
     "output_type": "stream",
     "text": [
      "(12.6+0j)\n"
     ]
    }
   ],
   "source": [
    "# float to complex\n",
    "float_value=12.6\n",
    "complex_value=complex(float_value)\n",
    "print(complex_value)"
   ]
  },
  {
   "cell_type": "code",
   "execution_count": 4,
   "id": "a5a6fbf1-17e9-43f5-807b-bc362f49492d",
   "metadata": {},
   "outputs": [
    {
     "name": "stdout",
     "output_type": "stream",
     "text": [
      "True\n",
      "False\n",
      "True\n"
     ]
    }
   ],
   "source": [
    "# float to boolean\n",
    "float_value=12.6\n",
    "bool_value=bool(float_value)\n",
    "print(bool_value)\n",
    "\n",
    "float_value=0\n",
    "bool_value=bool(float_value)\n",
    "print(bool_value)\n",
    "float_value=-2\n",
    "\n",
    "bool_value=bool(float_value)\n",
    "print(bool_value)"
   ]
  },
  {
   "cell_type": "code",
   "execution_count": 5,
   "id": "d33b2034-e222-406c-be44-9609abe105f3",
   "metadata": {},
   "outputs": [
    {
     "name": "stdout",
     "output_type": "stream",
     "text": [
      "<class 'str'>\n"
     ]
    }
   ],
   "source": [
    "# float to string\n",
    "float_value=12.6\n",
    "str_value=str(float_value)\n",
    "print(type(str_value))"
   ]
  },
  {
   "cell_type": "code",
   "execution_count": 6,
   "id": "819ebc14-91b0-4739-a56c-4394bae9f0a1",
   "metadata": {},
   "outputs": [
    {
     "ename": "TypeError",
     "evalue": "'float' object is not iterable",
     "output_type": "error",
     "traceback": [
      "\u001b[1;31m---------------------------------------------------------------------------\u001b[0m",
      "\u001b[1;31mTypeError\u001b[0m                                 Traceback (most recent call last)",
      "Cell \u001b[1;32mIn[6], line 2\u001b[0m\n\u001b[0;32m      1\u001b[0m float_value\u001b[38;5;241m=\u001b[39m\u001b[38;5;241m12.6\u001b[39m\n\u001b[1;32m----> 2\u001b[0m list_value\u001b[38;5;241m=\u001b[39m\u001b[38;5;28mlist\u001b[39m(float_value)\n\u001b[0;32m      3\u001b[0m \u001b[38;5;28mprint\u001b[39m(\u001b[38;5;28mtype\u001b[39m(list_value))\n",
      "\u001b[1;31mTypeError\u001b[0m: 'float' object is not iterable"
     ]
    }
   ],
   "source": [
    "# float to list\n",
    "float_value=12.6\n",
    "list_value=list(float_value)\n",
    "print(list_value)"
   ]
  },
  {
   "cell_type": "code",
   "execution_count": 8,
   "id": "1a5bb24b-bc69-4db2-82c7-d9d9e17ebdf2",
   "metadata": {},
   "outputs": [
    {
     "ename": "TypeError",
     "evalue": "'float' object is not iterable",
     "output_type": "error",
     "traceback": [
      "\u001b[1;31m---------------------------------------------------------------------------\u001b[0m",
      "\u001b[1;31mTypeError\u001b[0m                                 Traceback (most recent call last)",
      "Cell \u001b[1;32mIn[8], line 3\u001b[0m\n\u001b[0;32m      1\u001b[0m \u001b[38;5;66;03m# float to tuple\u001b[39;00m\n\u001b[0;32m      2\u001b[0m float_value\u001b[38;5;241m=\u001b[39m\u001b[38;5;241m12.6\u001b[39m\n\u001b[1;32m----> 3\u001b[0m tuple_value\u001b[38;5;241m=\u001b[39m\u001b[38;5;28mtuple\u001b[39m(float_value)\n\u001b[0;32m      4\u001b[0m \u001b[38;5;28mprint\u001b[39m(tuple_value)\n",
      "\u001b[1;31mTypeError\u001b[0m: 'float' object is not iterable"
     ]
    }
   ],
   "source": [
    "# float to tuple\n",
    "float_value=12.6\n",
    "tuple_value=tuple(float_value)\n",
    "print(tuple_value)"
   ]
  },
  {
   "cell_type": "code",
   "execution_count": 9,
   "id": "61d53060-9afd-4694-82e6-faa79d5ca5db",
   "metadata": {},
   "outputs": [
    {
     "ename": "TypeError",
     "evalue": "'float' object is not iterable",
     "output_type": "error",
     "traceback": [
      "\u001b[1;31m---------------------------------------------------------------------------\u001b[0m",
      "\u001b[1;31mTypeError\u001b[0m                                 Traceback (most recent call last)",
      "Cell \u001b[1;32mIn[9], line 3\u001b[0m\n\u001b[0;32m      1\u001b[0m \u001b[38;5;66;03m# float to set\u001b[39;00m\n\u001b[0;32m      2\u001b[0m float_value\u001b[38;5;241m=\u001b[39m\u001b[38;5;241m12.6\u001b[39m\n\u001b[1;32m----> 3\u001b[0m set_value\u001b[38;5;241m=\u001b[39m\u001b[38;5;28mset\u001b[39m(float_value)\n\u001b[0;32m      4\u001b[0m \u001b[38;5;28mprint\u001b[39m(set_value)\n",
      "\u001b[1;31mTypeError\u001b[0m: 'float' object is not iterable"
     ]
    }
   ],
   "source": [
    "# float to set\n",
    "float_value=12.6\n",
    "set_value=set(float_value)\n",
    "print(set_value)"
   ]
  },
  {
   "cell_type": "code",
   "execution_count": 10,
   "id": "41a14797-1c34-4ce2-87b5-aa171353035b",
   "metadata": {},
   "outputs": [
    {
     "ename": "TypeError",
     "evalue": "'float' object is not iterable",
     "output_type": "error",
     "traceback": [
      "\u001b[1;31m---------------------------------------------------------------------------\u001b[0m",
      "\u001b[1;31mTypeError\u001b[0m                                 Traceback (most recent call last)",
      "Cell \u001b[1;32mIn[10], line 3\u001b[0m\n\u001b[0;32m      1\u001b[0m \u001b[38;5;66;03m# float to dict\u001b[39;00m\n\u001b[0;32m      2\u001b[0m float_value\u001b[38;5;241m=\u001b[39m\u001b[38;5;241m12.6\u001b[39m\n\u001b[1;32m----> 3\u001b[0m dict_value\u001b[38;5;241m=\u001b[39m\u001b[38;5;28mdict\u001b[39m(float_value)\n\u001b[0;32m      4\u001b[0m \u001b[38;5;28mprint\u001b[39m(dict_value)\n",
      "\u001b[1;31mTypeError\u001b[0m: 'float' object is not iterable"
     ]
    }
   ],
   "source": [
    "# float to dict\n",
    "float_value=12.6\n",
    "dict_value=dict(float_value)\n",
    "print(dict_value)"
   ]
  },
  {
   "cell_type": "markdown",
   "id": "ee1fe650-eb60-4c4f-953c-1a4ebd760fa6",
   "metadata": {},
   "source": [
    "## boolean conversion"
   ]
  },
  {
   "cell_type": "code",
   "execution_count": 15,
   "id": "1b0f6d96-5eda-4e1c-b62f-1ffe1f80e1b6",
   "metadata": {},
   "outputs": [
    {
     "name": "stdout",
     "output_type": "stream",
     "text": [
      "1\n"
     ]
    }
   ],
   "source": [
    "# boolean to integer\n",
    "bool_value=True\n",
    "int_value=int(bool_value)\n",
    "print(int_value)"
   ]
  },
  {
   "cell_type": "code",
   "execution_count": 16,
   "id": "623c4eaf-6a71-468c-a64a-4828c731becd",
   "metadata": {},
   "outputs": [
    {
     "name": "stdout",
     "output_type": "stream",
     "text": [
      "1.0\n"
     ]
    }
   ],
   "source": [
    "# boolean to float\n",
    "bool_value=True\n",
    "float_value=float(bool_value)\n",
    "print(float_value)"
   ]
  },
  {
   "cell_type": "code",
   "execution_count": 21,
   "id": "b47b1ad6-01cc-4cbf-8227-09418454b0e1",
   "metadata": {},
   "outputs": [
    {
     "name": "stdout",
     "output_type": "stream",
     "text": [
      "(1+0j)\n",
      "0j\n"
     ]
    }
   ],
   "source": [
    "# boolean to complex\n",
    "bool_value=True\n",
    "complex_value=complex(bool_value)\n",
    "print(complex_value)\n",
    "\n",
    "bool_value=False\n",
    "complex_value=complex(bool_value)\n",
    "print(complex_value)"
   ]
  },
  {
   "cell_type": "code",
   "execution_count": 18,
   "id": "225e938a-976d-41d9-899a-18e94ce327f5",
   "metadata": {},
   "outputs": [
    {
     "name": "stdout",
     "output_type": "stream",
     "text": [
      "<class 'str'>\n"
     ]
    }
   ],
   "source": [
    "# boolean to string\n",
    "bool_value=True\n",
    "str_value=str(bool_value)\n",
    "print(type(str_value))"
   ]
  },
  {
   "cell_type": "code",
   "execution_count": 22,
   "id": "0cb0c53c-e3cf-4836-a522-338ad38b6c10",
   "metadata": {},
   "outputs": [
    {
     "ename": "TypeError",
     "evalue": "'bool' object is not iterable",
     "output_type": "error",
     "traceback": [
      "\u001b[1;31m---------------------------------------------------------------------------\u001b[0m",
      "\u001b[1;31mTypeError\u001b[0m                                 Traceback (most recent call last)",
      "Cell \u001b[1;32mIn[22], line 3\u001b[0m\n\u001b[0;32m      1\u001b[0m \u001b[38;5;66;03m# boolean to list\u001b[39;00m\n\u001b[0;32m      2\u001b[0m bool_value\u001b[38;5;241m=\u001b[39m\u001b[38;5;28;01mTrue\u001b[39;00m\n\u001b[1;32m----> 3\u001b[0m list_value\u001b[38;5;241m=\u001b[39m\u001b[38;5;28mlist\u001b[39m(bool_value)\n\u001b[0;32m      4\u001b[0m \u001b[38;5;28mprint\u001b[39m(list_value)\n",
      "\u001b[1;31mTypeError\u001b[0m: 'bool' object is not iterable"
     ]
    }
   ],
   "source": [
    "# boolean to list\n",
    "bool_value=True\n",
    "list_value=list(bool_value)\n",
    "print(list_value)"
   ]
  },
  {
   "cell_type": "code",
   "execution_count": 23,
   "id": "3403af2e-2bf4-4de0-ac08-a244f0e4a408",
   "metadata": {},
   "outputs": [
    {
     "ename": "TypeError",
     "evalue": "'bool' object is not iterable",
     "output_type": "error",
     "traceback": [
      "\u001b[1;31m---------------------------------------------------------------------------\u001b[0m",
      "\u001b[1;31mTypeError\u001b[0m                                 Traceback (most recent call last)",
      "Cell \u001b[1;32mIn[23], line 3\u001b[0m\n\u001b[0;32m      1\u001b[0m \u001b[38;5;66;03m# boolean to tuple\u001b[39;00m\n\u001b[0;32m      2\u001b[0m bool_value\u001b[38;5;241m=\u001b[39m\u001b[38;5;28;01mTrue\u001b[39;00m\n\u001b[1;32m----> 3\u001b[0m tuple_value\u001b[38;5;241m=\u001b[39m\u001b[38;5;28mtuple\u001b[39m(bool_value)\n\u001b[0;32m      4\u001b[0m \u001b[38;5;28mprint\u001b[39m(tuple_value)\n",
      "\u001b[1;31mTypeError\u001b[0m: 'bool' object is not iterable"
     ]
    }
   ],
   "source": [
    "# boolean to tuple\n",
    "bool_value=True\n",
    "tuple_value=tuple(bool_value)\n",
    "print(tuple_value)"
   ]
  },
  {
   "cell_type": "code",
   "execution_count": 24,
   "id": "40704745-70dd-4f15-9b39-7e72b02bb0e9",
   "metadata": {},
   "outputs": [
    {
     "ename": "TypeError",
     "evalue": "'bool' object is not iterable",
     "output_type": "error",
     "traceback": [
      "\u001b[1;31m---------------------------------------------------------------------------\u001b[0m",
      "\u001b[1;31mTypeError\u001b[0m                                 Traceback (most recent call last)",
      "Cell \u001b[1;32mIn[24], line 3\u001b[0m\n\u001b[0;32m      1\u001b[0m \u001b[38;5;66;03m# boolean to set\u001b[39;00m\n\u001b[0;32m      2\u001b[0m bool_value\u001b[38;5;241m=\u001b[39m\u001b[38;5;28;01mTrue\u001b[39;00m\n\u001b[1;32m----> 3\u001b[0m set_value\u001b[38;5;241m=\u001b[39m\u001b[38;5;28mset\u001b[39m(bool_value)\n\u001b[0;32m      4\u001b[0m \u001b[38;5;28mprint\u001b[39m(set_value)\n",
      "\u001b[1;31mTypeError\u001b[0m: 'bool' object is not iterable"
     ]
    }
   ],
   "source": [
    "# boolean to set\n",
    "bool_value=True\n",
    "set_value=set(bool_value)\n",
    "print(set_value)"
   ]
  },
  {
   "cell_type": "code",
   "execution_count": 25,
   "id": "0581aed2-08e1-4891-9946-0a1b29b5b2ff",
   "metadata": {},
   "outputs": [
    {
     "ename": "TypeError",
     "evalue": "'bool' object is not iterable",
     "output_type": "error",
     "traceback": [
      "\u001b[1;31m---------------------------------------------------------------------------\u001b[0m",
      "\u001b[1;31mTypeError\u001b[0m                                 Traceback (most recent call last)",
      "Cell \u001b[1;32mIn[25], line 3\u001b[0m\n\u001b[0;32m      1\u001b[0m \u001b[38;5;66;03m# boolean to dict\u001b[39;00m\n\u001b[0;32m      2\u001b[0m bool_value\u001b[38;5;241m=\u001b[39m\u001b[38;5;28;01mTrue\u001b[39;00m\n\u001b[1;32m----> 3\u001b[0m dict_value\u001b[38;5;241m=\u001b[39m\u001b[38;5;28mdict\u001b[39m(bool_value)\n\u001b[0;32m      4\u001b[0m \u001b[38;5;28mprint\u001b[39m(dict_value)\n",
      "\u001b[1;31mTypeError\u001b[0m: 'bool' object is not iterable"
     ]
    }
   ],
   "source": [
    "# boolean to dict\n",
    "bool_value=True\n",
    "dict_value=dict(bool_value)\n",
    "print(dict_value)"
   ]
  },
  {
   "cell_type": "markdown",
   "id": "8fec5d99-fcfd-4fe0-bed9-4ed027b44976",
   "metadata": {},
   "source": [
    "## Complex conversions"
   ]
  },
  {
   "cell_type": "code",
   "execution_count": 27,
   "id": "1632c04f-48a0-4e9a-b701-4f7b8948832f",
   "metadata": {},
   "outputs": [
    {
     "ename": "TypeError",
     "evalue": "int() argument must be a string, a bytes-like object or a real number, not 'complex'",
     "output_type": "error",
     "traceback": [
      "\u001b[1;31m---------------------------------------------------------------------------\u001b[0m",
      "\u001b[1;31mTypeError\u001b[0m                                 Traceback (most recent call last)",
      "Cell \u001b[1;32mIn[27], line 3\u001b[0m\n\u001b[0;32m      1\u001b[0m \u001b[38;5;66;03m# complex to integer\u001b[39;00m\n\u001b[0;32m      2\u001b[0m complex_value\u001b[38;5;241m=\u001b[39m\u001b[38;5;241m16\u001b[39m\u001b[38;5;241m+\u001b[39m\u001b[38;5;241m4\u001b[39mJ\n\u001b[1;32m----> 3\u001b[0m int_value\u001b[38;5;241m=\u001b[39m\u001b[38;5;28mint\u001b[39m(complex_value)\n\u001b[0;32m      4\u001b[0m \u001b[38;5;28mprint\u001b[39m(int_value)\n",
      "\u001b[1;31mTypeError\u001b[0m: int() argument must be a string, a bytes-like object or a real number, not 'complex'"
     ]
    }
   ],
   "source": [
    "# complex to integer\n",
    "complex_value=16+4j\n",
    "int_value=int(complex_value)\n",
    "print(int_value)"
   ]
  },
  {
   "cell_type": "code",
   "execution_count": 28,
   "id": "34fa2562-e716-4905-8d3a-64468385ef96",
   "metadata": {},
   "outputs": [
    {
     "ename": "TypeError",
     "evalue": "float() argument must be a string or a real number, not 'complex'",
     "output_type": "error",
     "traceback": [
      "\u001b[1;31m---------------------------------------------------------------------------\u001b[0m",
      "\u001b[1;31mTypeError\u001b[0m                                 Traceback (most recent call last)",
      "Cell \u001b[1;32mIn[28], line 3\u001b[0m\n\u001b[0;32m      1\u001b[0m \u001b[38;5;66;03m# complex to float\u001b[39;00m\n\u001b[0;32m      2\u001b[0m complex_value\u001b[38;5;241m=\u001b[39m\u001b[38;5;241m16\u001b[39m\u001b[38;5;241m+\u001b[39m\u001b[38;5;241m4\u001b[39mJ\n\u001b[1;32m----> 3\u001b[0m float_value\u001b[38;5;241m=\u001b[39m\u001b[38;5;28mfloat\u001b[39m(complex_value)\n\u001b[0;32m      4\u001b[0m \u001b[38;5;28mprint\u001b[39m(float_value)\n",
      "\u001b[1;31mTypeError\u001b[0m: float() argument must be a string or a real number, not 'complex'"
     ]
    }
   ],
   "source": [
    "# complex to float\n",
    "complex_value=16+4j\n",
    "float_value=float(complex_value)\n",
    "print(float_value)"
   ]
  },
  {
   "cell_type": "code",
   "execution_count": 33,
   "id": "4443159a-74b7-4925-a920-d923b3b52005",
   "metadata": {},
   "outputs": [
    {
     "name": "stdout",
     "output_type": "stream",
     "text": [
      "True\n",
      "True\n"
     ]
    }
   ],
   "source": [
    "# complex to boolean\n",
    "complex_value=16+4j\n",
    "bool_value=bool(complex_value)\n",
    "print(bool_value)\n",
    "\n",
    "complex_value=-16-4j\n",
    "bool_value=bool(complex_value)\n",
    "print(bool_value)"
   ]
  },
  {
   "cell_type": "code",
   "execution_count": 31,
   "id": "12f60358-a522-4f4e-aba6-8812a19382dd",
   "metadata": {},
   "outputs": [
    {
     "name": "stdout",
     "output_type": "stream",
     "text": [
      "(16+4j)\n",
      "<class 'str'>\n"
     ]
    }
   ],
   "source": [
    "# complex to string\n",
    "complex_value=16+4j\n",
    "str_value=str(complex_value)\n",
    "print(str_value)\n",
    "print(type(str_value))"
   ]
  },
  {
   "cell_type": "code",
   "execution_count": 34,
   "id": "5e7ab58f-8d9b-420c-8f69-c4043112bc3a",
   "metadata": {},
   "outputs": [
    {
     "ename": "TypeError",
     "evalue": "'complex' object is not iterable",
     "output_type": "error",
     "traceback": [
      "\u001b[1;31m---------------------------------------------------------------------------\u001b[0m",
      "\u001b[1;31mTypeError\u001b[0m                                 Traceback (most recent call last)",
      "Cell \u001b[1;32mIn[34], line 3\u001b[0m\n\u001b[0;32m      1\u001b[0m \u001b[38;5;66;03m# complex to list\u001b[39;00m\n\u001b[0;32m      2\u001b[0m complex_value\u001b[38;5;241m=\u001b[39m\u001b[38;5;241m16\u001b[39m\u001b[38;5;241m+\u001b[39m\u001b[38;5;241m4\u001b[39mJ\n\u001b[1;32m----> 3\u001b[0m list_value\u001b[38;5;241m=\u001b[39m\u001b[38;5;28mlist\u001b[39m(complex_value)\n\u001b[0;32m      4\u001b[0m \u001b[38;5;28mprint\u001b[39m(list_value)\n",
      "\u001b[1;31mTypeError\u001b[0m: 'complex' object is not iterable"
     ]
    }
   ],
   "source": [
    "# complex to list\n",
    "complex_value=16+4j\n",
    "list_value=list(complex_value)\n",
    "print(list_value)"
   ]
  },
  {
   "cell_type": "code",
   "execution_count": 35,
   "id": "7c43eb47-7ce6-49fe-be4f-11437f4b57b5",
   "metadata": {},
   "outputs": [
    {
     "ename": "TypeError",
     "evalue": "'complex' object is not iterable",
     "output_type": "error",
     "traceback": [
      "\u001b[1;31m---------------------------------------------------------------------------\u001b[0m",
      "\u001b[1;31mTypeError\u001b[0m                                 Traceback (most recent call last)",
      "Cell \u001b[1;32mIn[35], line 3\u001b[0m\n\u001b[0;32m      1\u001b[0m \u001b[38;5;66;03m# complex to list\u001b[39;00m\n\u001b[0;32m      2\u001b[0m complex_value\u001b[38;5;241m=\u001b[39m\u001b[38;5;241m16\u001b[39m\u001b[38;5;241m+\u001b[39m\u001b[38;5;241m4\u001b[39mJ\n\u001b[1;32m----> 3\u001b[0m tuple_value\u001b[38;5;241m=\u001b[39m\u001b[38;5;28mtuple\u001b[39m(complex_value)\n\u001b[0;32m      4\u001b[0m \u001b[38;5;28mprint\u001b[39m(tuple_value)\n",
      "\u001b[1;31mTypeError\u001b[0m: 'complex' object is not iterable"
     ]
    }
   ],
   "source": [
    "# complex to tuple\n",
    "complex_value=16+4j\n",
    "tuple_value=tuple(complex_value)\n",
    "print(tuple_value)"
   ]
  },
  {
   "cell_type": "code",
   "execution_count": 36,
   "id": "aa577af0-9221-4356-bbe0-3a5bdad3a5f7",
   "metadata": {},
   "outputs": [
    {
     "ename": "TypeError",
     "evalue": "'complex' object is not iterable",
     "output_type": "error",
     "traceback": [
      "\u001b[1;31m---------------------------------------------------------------------------\u001b[0m",
      "\u001b[1;31mTypeError\u001b[0m                                 Traceback (most recent call last)",
      "Cell \u001b[1;32mIn[36], line 3\u001b[0m\n\u001b[0;32m      1\u001b[0m \u001b[38;5;66;03m# complex to set\u001b[39;00m\n\u001b[0;32m      2\u001b[0m complex_value\u001b[38;5;241m=\u001b[39m\u001b[38;5;241m16\u001b[39m\u001b[38;5;241m+\u001b[39m\u001b[38;5;241m4\u001b[39mj\n\u001b[1;32m----> 3\u001b[0m set_value\u001b[38;5;241m=\u001b[39m\u001b[38;5;28mset\u001b[39m(complex_value)\n\u001b[0;32m      4\u001b[0m \u001b[38;5;28mprint\u001b[39m(set_value)\n",
      "\u001b[1;31mTypeError\u001b[0m: 'complex' object is not iterable"
     ]
    }
   ],
   "source": [
    "# complex to set\n",
    "complex_value=16+4j\n",
    "set_value=set(complex_value)\n",
    "print(set_value)"
   ]
  },
  {
   "cell_type": "code",
   "execution_count": 37,
   "id": "a33c9568-b7e1-464e-ae29-998cae7bac8d",
   "metadata": {},
   "outputs": [
    {
     "ename": "TypeError",
     "evalue": "'complex' object is not iterable",
     "output_type": "error",
     "traceback": [
      "\u001b[1;31m---------------------------------------------------------------------------\u001b[0m",
      "\u001b[1;31mTypeError\u001b[0m                                 Traceback (most recent call last)",
      "Cell \u001b[1;32mIn[37], line 3\u001b[0m\n\u001b[0;32m      1\u001b[0m \u001b[38;5;66;03m# complex to dict\u001b[39;00m\n\u001b[0;32m      2\u001b[0m complex_value\u001b[38;5;241m=\u001b[39m\u001b[38;5;241m16\u001b[39m\u001b[38;5;241m+\u001b[39m\u001b[38;5;241m4\u001b[39mJ\n\u001b[1;32m----> 3\u001b[0m dict_value\u001b[38;5;241m=\u001b[39m\u001b[38;5;28mdict\u001b[39m(complex_value)\n\u001b[0;32m      4\u001b[0m \u001b[38;5;28mprint\u001b[39m(dict_value)\n",
      "\u001b[1;31mTypeError\u001b[0m: 'complex' object is not iterable"
     ]
    }
   ],
   "source": [
    "# complex to dict\n",
    "complex_value=16+4J\n",
    "dict_value=dict(complex_value)\n",
    "print(dict_value)"
   ]
  },
  {
   "cell_type": "markdown",
   "id": "e672b4c9-6ec7-4b24-b9d8-21500f1830c4",
   "metadata": {},
   "source": [
    "## String Conversions"
   ]
  },
  {
   "cell_type": "code",
   "execution_count": 46,
   "id": "60bd4eec-a208-4dd1-a7e6-832c5d0a5dbe",
   "metadata": {},
   "outputs": [
    {
     "name": "stdout",
     "output_type": "stream",
     "text": [
      "1236\n"
     ]
    },
    {
     "ename": "ValueError",
     "evalue": "invalid literal for int() with base 10: 'supriya'",
     "output_type": "error",
     "traceback": [
      "\u001b[1;31m---------------------------------------------------------------------------\u001b[0m",
      "\u001b[1;31mValueError\u001b[0m                                Traceback (most recent call last)",
      "Cell \u001b[1;32mIn[46], line 6\u001b[0m\n\u001b[0;32m      4\u001b[0m \u001b[38;5;28mprint\u001b[39m(int_value)\n\u001b[0;32m      5\u001b[0m str2_value\u001b[38;5;241m=\u001b[39m\u001b[38;5;124m\"\u001b[39m\u001b[38;5;124msupriya\u001b[39m\u001b[38;5;124m\"\u001b[39m\n\u001b[1;32m----> 6\u001b[0m int_value2\u001b[38;5;241m=\u001b[39m\u001b[38;5;28mint\u001b[39m(str2_value)\n\u001b[0;32m      7\u001b[0m \u001b[38;5;28mprint\u001b[39m(int_value2)\n",
      "\u001b[1;31mValueError\u001b[0m: invalid literal for int() with base 10: 'supriya'"
     ]
    }
   ],
   "source": [
    "# string to integer\n",
    "str_value=\"1236\"\n",
    "int_value=int(str_value)\n",
    "print(int_value)\n",
    "\n",
    "str2_value=\"supriya\"\n",
    "int_value2=int(str2_value)\n",
    "print(int_value2)"
   ]
  },
  {
   "cell_type": "code",
   "execution_count": 49,
   "id": "e3a995cc-6c65-4b0f-9f4e-f7826aaf38a1",
   "metadata": {},
   "outputs": [
    {
     "name": "stdout",
     "output_type": "stream",
     "text": [
      "176.0\n"
     ]
    }
   ],
   "source": [
    "# string to float\n",
    "str_value=\"176\"\n",
    "float_value=float(str_value)\n",
    "print(float_value)"
   ]
  },
  {
   "cell_type": "code",
   "execution_count": 53,
   "id": "6d1c069a-6691-4833-b6da-2aed61fdac51",
   "metadata": {},
   "outputs": [
    {
     "name": "stdout",
     "output_type": "stream",
     "text": [
      "(12+4j)\n"
     ]
    }
   ],
   "source": [
    "# string to complex\n",
    "str_value=\"12+4j\"\n",
    "complex_value=complex(str_value)\n",
    "print(complex_value)"
   ]
  },
  {
   "cell_type": "code",
   "execution_count": 56,
   "id": "df5570bc-e538-4df1-8e10-1df461034c16",
   "metadata": {},
   "outputs": [
    {
     "name": "stdout",
     "output_type": "stream",
     "text": [
      "True\n",
      "False\n"
     ]
    }
   ],
   "source": [
    "# string to boolean\n",
    "str_value=\"supriya\"\n",
    "bool_value=bool(str_value)\n",
    "print(bool_value)\n",
    "\n",
    "str_value=\"\"\n",
    "bool_value=bool(str_value)\n",
    "print(bool_value)"
   ]
  },
  {
   "cell_type": "code",
   "execution_count": 57,
   "id": "efb4a08e-9a04-412b-be37-43ecd2582373",
   "metadata": {},
   "outputs": [
    {
     "name": "stdout",
     "output_type": "stream",
     "text": [
      "['S', 'u', 'p', 'r', 'i', 'y', 'a']\n"
     ]
    }
   ],
   "source": [
    "# string to list\n",
    "str_value=\"Supriya\"\n",
    "list_value=list(str_value)\n",
    "print(list_value)"
   ]
  },
  {
   "cell_type": "code",
   "execution_count": 58,
   "id": "02fb296d-7d7a-4004-bea9-763b10308ba4",
   "metadata": {},
   "outputs": [
    {
     "name": "stdout",
     "output_type": "stream",
     "text": [
      "('S', 'u', 'p', 'r', 'i', 'y', 'a')\n"
     ]
    }
   ],
   "source": [
    "# string to tuple\n",
    "str_value=\"Supriya\"\n",
    "tuple_value=tuple(str_value)\n",
    "print(tuple_value)"
   ]
  },
  {
   "cell_type": "code",
   "execution_count": 61,
   "id": "a36c9e67-4694-4942-8a44-eb7070696ac9",
   "metadata": {},
   "outputs": [
    {
     "name": "stdout",
     "output_type": "stream",
     "text": [
      "{'a', 'S', 't', 'u', '.', 'i', 'y', 'r', 'p'}\n"
     ]
    }
   ],
   "source": [
    "# string to set\n",
    "str_value=\"Supriya.putta\"\n",
    "set_value=set(str_value)\n",
    "print(set_value)"
   ]
  },
  {
   "cell_type": "code",
   "execution_count": 63,
   "id": "3801afde-8e15-4c02-8c07-04f13c3a3ce7",
   "metadata": {},
   "outputs": [
    {
     "ename": "ValueError",
     "evalue": "dictionary update sequence element #0 has length 1; 2 is required",
     "output_type": "error",
     "traceback": [
      "\u001b[1;31m---------------------------------------------------------------------------\u001b[0m",
      "\u001b[1;31mValueError\u001b[0m                                Traceback (most recent call last)",
      "Cell \u001b[1;32mIn[63], line 3\u001b[0m\n\u001b[0;32m      1\u001b[0m \u001b[38;5;66;03m# string to dict\u001b[39;00m\n\u001b[0;32m      2\u001b[0m str_value\u001b[38;5;241m=\u001b[39m\u001b[38;5;124m\"\u001b[39m\u001b[38;5;124mSupriya:sup\u001b[39m\u001b[38;5;124m\"\u001b[39m\n\u001b[1;32m----> 3\u001b[0m dict_value\u001b[38;5;241m=\u001b[39m\u001b[38;5;28mdict\u001b[39m(str_value)\n\u001b[0;32m      4\u001b[0m \u001b[38;5;28mprint\u001b[39m(dict_value)\n",
      "\u001b[1;31mValueError\u001b[0m: dictionary update sequence element #0 has length 1; 2 is required"
     ]
    }
   ],
   "source": [
    "# string to dict\n",
    "str_value=\"Supriya:sup\"\n",
    "dict_value=dict(str_value)\n",
    "print(dict_value)"
   ]
  },
  {
   "cell_type": "markdown",
   "id": "d805b6d4-398f-4422-a1de-41373355b282",
   "metadata": {},
   "source": [
    "## List Coversions"
   ]
  },
  {
   "cell_type": "code",
   "execution_count": 77,
   "id": "0ffc3319-7472-4a10-a807-a66c5904b8b0",
   "metadata": {},
   "outputs": [
    {
     "ename": "TypeError",
     "evalue": "int() argument must be a string, a bytes-like object or a real number, not 'list'",
     "output_type": "error",
     "traceback": [
      "\u001b[1;31m---------------------------------------------------------------------------\u001b[0m",
      "\u001b[1;31mTypeError\u001b[0m                                 Traceback (most recent call last)",
      "Cell \u001b[1;32mIn[77], line 3\u001b[0m\n\u001b[0;32m      1\u001b[0m \u001b[38;5;66;03m# list to integer\u001b[39;00m\n\u001b[0;32m      2\u001b[0m list_value\u001b[38;5;241m=\u001b[39m[\u001b[38;5;124m\"\u001b[39m\u001b[38;5;124m16\u001b[39m\u001b[38;5;124m\"\u001b[39m]\n\u001b[1;32m----> 3\u001b[0m int_value\u001b[38;5;241m=\u001b[39m\u001b[38;5;28mint\u001b[39m(list_value)\n\u001b[0;32m      4\u001b[0m \u001b[38;5;28mprint\u001b[39m(int_value)\n",
      "\u001b[1;31mTypeError\u001b[0m: int() argument must be a string, a bytes-like object or a real number, not 'list'"
     ]
    }
   ],
   "source": [
    "# list to integer\n",
    "list_value=[3,8,7,2]\n",
    "int_value=int(list_value)\n",
    "print(int_value)"
   ]
  },
  {
   "cell_type": "code",
   "execution_count": 79,
   "id": "20ebf3ba-14c1-4da9-8b9a-05133bfb8321",
   "metadata": {},
   "outputs": [
    {
     "ename": "TypeError",
     "evalue": "float() argument must be a string or a real number, not 'list'",
     "output_type": "error",
     "traceback": [
      "\u001b[1;31m---------------------------------------------------------------------------\u001b[0m",
      "\u001b[1;31mTypeError\u001b[0m                                 Traceback (most recent call last)",
      "Cell \u001b[1;32mIn[79], line 3\u001b[0m\n\u001b[0;32m      1\u001b[0m \u001b[38;5;66;03m# list to float\u001b[39;00m\n\u001b[0;32m      2\u001b[0m list_value\u001b[38;5;241m=\u001b[39m[\u001b[38;5;241m16.2\u001b[39m,\u001b[38;5;241m.7\u001b[39m,\u001b[38;5;241m3.9\u001b[39m]\n\u001b[1;32m----> 3\u001b[0m float_value\u001b[38;5;241m=\u001b[39m\u001b[38;5;28mfloat\u001b[39m(list_value)\n\u001b[0;32m      4\u001b[0m \u001b[38;5;28mprint\u001b[39m(float_value)\n",
      "\u001b[1;31mTypeError\u001b[0m: float() argument must be a string or a real number, not 'list'"
     ]
    }
   ],
   "source": [
    "# list to float\n",
    "list_value=[16.2,.7,3.9]\n",
    "float_value=float(list_value)\n",
    "print(float_value)"
   ]
  },
  {
   "cell_type": "code",
   "execution_count": 80,
   "id": "de0dbff1-cdae-4836-9914-ca5111b7fa3c",
   "metadata": {},
   "outputs": [
    {
     "ename": "TypeError",
     "evalue": "complex() first argument must be a string or a number, not 'list'",
     "output_type": "error",
     "traceback": [
      "\u001b[1;31m---------------------------------------------------------------------------\u001b[0m",
      "\u001b[1;31mTypeError\u001b[0m                                 Traceback (most recent call last)",
      "Cell \u001b[1;32mIn[80], line 3\u001b[0m\n\u001b[0;32m      1\u001b[0m \u001b[38;5;66;03m# list to complex\u001b[39;00m\n\u001b[0;32m      2\u001b[0m list_value\u001b[38;5;241m=\u001b[39m[\u001b[38;5;241m16.2\u001b[39m,\u001b[38;5;241m.7\u001b[39m,\u001b[38;5;241m3.9\u001b[39m]\n\u001b[1;32m----> 3\u001b[0m complex_value\u001b[38;5;241m=\u001b[39m\u001b[38;5;28mcomplex\u001b[39m(list_value)\n\u001b[0;32m      4\u001b[0m \u001b[38;5;28mprint\u001b[39m(complex_value)\n",
      "\u001b[1;31mTypeError\u001b[0m: complex() first argument must be a string or a number, not 'list'"
     ]
    }
   ],
   "source": [
    "# list to complex\n",
    "list_value=[16.2,.7,3.9]\n",
    "complex_value=complex(list_value)\n",
    "print(complex_value)"
   ]
  },
  {
   "cell_type": "code",
   "execution_count": 83,
   "id": "1254d27d-8633-4e03-a5ab-d02de8ddab33",
   "metadata": {},
   "outputs": [
    {
     "name": "stdout",
     "output_type": "stream",
     "text": [
      "True\n",
      "False\n"
     ]
    }
   ],
   "source": [
    "# list to boolean\n",
    "list_value=[2,4,7]\n",
    "bool_value=bool(list_value)\n",
    "print(bool_value)\n",
    "\n",
    "list_value=[]\n",
    "bool_value=bool(list_value)\n",
    "print(bool_value)"
   ]
  },
  {
   "cell_type": "code",
   "execution_count": 84,
   "id": "5bc56c86-60b5-41cf-9000-8d9aff7de610",
   "metadata": {},
   "outputs": [
    {
     "name": "stdout",
     "output_type": "stream",
     "text": [
      "['supriya', 'putta', 'MCA']\n"
     ]
    }
   ],
   "source": [
    "# list to string\n",
    "list_value=[\"supriya\", \"putta\", \"MCA\"]\n",
    "str_value=str(list_value)\n",
    "print(str_value)"
   ]
  },
  {
   "cell_type": "code",
   "execution_count": 85,
   "id": "b4e9e258-99d6-474c-83f8-0c1f7716e017",
   "metadata": {},
   "outputs": [
    {
     "name": "stdout",
     "output_type": "stream",
     "text": [
      "('supriya', 'putta', 'MCA')\n"
     ]
    }
   ],
   "source": [
    "# list to tuple\n",
    "list_value=[\"supriya\", \"putta\", \"MCA\"]\n",
    "tuple_value=tuple(list_value)\n",
    "print(tuple_value)"
   ]
  },
  {
   "cell_type": "code",
   "execution_count": 86,
   "id": "bbc5c99f-01d6-4538-b40b-8d33b76c5f60",
   "metadata": {},
   "outputs": [
    {
     "ename": "ValueError",
     "evalue": "dictionary update sequence element #0 has length 7; 2 is required",
     "output_type": "error",
     "traceback": [
      "\u001b[1;31m---------------------------------------------------------------------------\u001b[0m",
      "\u001b[1;31mValueError\u001b[0m                                Traceback (most recent call last)",
      "Cell \u001b[1;32mIn[86], line 3\u001b[0m\n\u001b[0;32m      1\u001b[0m \u001b[38;5;66;03m# list to dict\u001b[39;00m\n\u001b[0;32m      2\u001b[0m list_value\u001b[38;5;241m=\u001b[39m[\u001b[38;5;124m\"\u001b[39m\u001b[38;5;124msupriya\u001b[39m\u001b[38;5;124m\"\u001b[39m, \u001b[38;5;124m\"\u001b[39m\u001b[38;5;124mputta\u001b[39m\u001b[38;5;124m\"\u001b[39m, \u001b[38;5;124m\"\u001b[39m\u001b[38;5;124mMCA\u001b[39m\u001b[38;5;124m\"\u001b[39m]\n\u001b[1;32m----> 3\u001b[0m dict_value\u001b[38;5;241m=\u001b[39m\u001b[38;5;28mdict\u001b[39m(list_value)\n\u001b[0;32m      4\u001b[0m \u001b[38;5;28mprint\u001b[39m(dict_value)\n",
      "\u001b[1;31mValueError\u001b[0m: dictionary update sequence element #0 has length 7; 2 is required"
     ]
    }
   ],
   "source": [
    "# list to dict\n",
    "list_value=[\"supriya\", \"putta\", \"MCA\"]\n",
    "dict_value=dict(list_value)\n",
    "print(dict_value)"
   ]
  },
  {
   "cell_type": "markdown",
   "id": "7648afdb-0b1f-4d5b-8124-f45da8aeeff1",
   "metadata": {},
   "source": [
    "## Tuple Conversions"
   ]
  },
  {
   "cell_type": "code",
   "execution_count": 1,
   "id": "b51024cb-2194-4970-88bf-dc044b222b08",
   "metadata": {},
   "outputs": [
    {
     "ename": "TypeError",
     "evalue": "int() argument must be a string, a bytes-like object or a real number, not 'tuple'",
     "output_type": "error",
     "traceback": [
      "\u001b[1;31m---------------------------------------------------------------------------\u001b[0m",
      "\u001b[1;31mTypeError\u001b[0m                                 Traceback (most recent call last)",
      "Cell \u001b[1;32mIn[1], line 3\u001b[0m\n\u001b[0;32m      1\u001b[0m \u001b[38;5;66;03m# tuple to integer\u001b[39;00m\n\u001b[0;32m      2\u001b[0m tuple_value\u001b[38;5;241m=\u001b[39m(\u001b[38;5;124m\"\u001b[39m\u001b[38;5;124msupriya\u001b[39m\u001b[38;5;124m\"\u001b[39m, \u001b[38;5;124m\"\u001b[39m\u001b[38;5;124mputta\u001b[39m\u001b[38;5;124m\"\u001b[39m, \u001b[38;5;124m\"\u001b[39m\u001b[38;5;124mMCA\u001b[39m\u001b[38;5;124m\"\u001b[39m)\n\u001b[1;32m----> 3\u001b[0m int_value\u001b[38;5;241m=\u001b[39m\u001b[38;5;28mint\u001b[39m(tuple_value)\n\u001b[0;32m      4\u001b[0m \u001b[38;5;28mprint\u001b[39m(int_value)\n",
      "\u001b[1;31mTypeError\u001b[0m: int() argument must be a string, a bytes-like object or a real number, not 'tuple'"
     ]
    }
   ],
   "source": [
    "# tuple to integer\n",
    "tuple_value=(\"supriya\", \"putta\", \"MCA\")\n",
    "int_value=int(tuple_value)\n",
    "print(int_value)"
   ]
  },
  {
   "cell_type": "code",
   "execution_count": 2,
   "id": "67709f30-14a6-4172-b5eb-1562572f98d9",
   "metadata": {},
   "outputs": [
    {
     "ename": "TypeError",
     "evalue": "float() argument must be a string or a real number, not 'tuple'",
     "output_type": "error",
     "traceback": [
      "\u001b[1;31m---------------------------------------------------------------------------\u001b[0m",
      "\u001b[1;31mTypeError\u001b[0m                                 Traceback (most recent call last)",
      "Cell \u001b[1;32mIn[2], line 3\u001b[0m\n\u001b[0;32m      1\u001b[0m \u001b[38;5;66;03m# tuple to float\u001b[39;00m\n\u001b[0;32m      2\u001b[0m tuple_value\u001b[38;5;241m=\u001b[39m(\u001b[38;5;124m\"\u001b[39m\u001b[38;5;124msupriya\u001b[39m\u001b[38;5;124m\"\u001b[39m, \u001b[38;5;124m\"\u001b[39m\u001b[38;5;124mputta\u001b[39m\u001b[38;5;124m\"\u001b[39m, \u001b[38;5;124m\"\u001b[39m\u001b[38;5;124mMCA\u001b[39m\u001b[38;5;124m\"\u001b[39m)\n\u001b[1;32m----> 3\u001b[0m float_value\u001b[38;5;241m=\u001b[39m\u001b[38;5;28mfloat\u001b[39m(tuple_value)\n\u001b[0;32m      4\u001b[0m \u001b[38;5;28mprint\u001b[39m(float_value)\n",
      "\u001b[1;31mTypeError\u001b[0m: float() argument must be a string or a real number, not 'tuple'"
     ]
    }
   ],
   "source": [
    "# tuple to float\n",
    "tuple_value=(\"supriya\", \"putta\", \"MCA\")\n",
    "float_value=float(tuple_value)\n",
    "print(float_value)"
   ]
  },
  {
   "cell_type": "code",
   "execution_count": 3,
   "id": "98c9fa27-05b5-4742-855b-65efc5aa8a92",
   "metadata": {},
   "outputs": [
    {
     "ename": "TypeError",
     "evalue": "complex() first argument must be a string or a number, not 'tuple'",
     "output_type": "error",
     "traceback": [
      "\u001b[1;31m---------------------------------------------------------------------------\u001b[0m",
      "\u001b[1;31mTypeError\u001b[0m                                 Traceback (most recent call last)",
      "Cell \u001b[1;32mIn[3], line 3\u001b[0m\n\u001b[0;32m      1\u001b[0m \u001b[38;5;66;03m# tuple to complex\u001b[39;00m\n\u001b[0;32m      2\u001b[0m tuple_value\u001b[38;5;241m=\u001b[39m(\u001b[38;5;124m\"\u001b[39m\u001b[38;5;124msupriya\u001b[39m\u001b[38;5;124m\"\u001b[39m, \u001b[38;5;124m\"\u001b[39m\u001b[38;5;124mputta\u001b[39m\u001b[38;5;124m\"\u001b[39m, \u001b[38;5;124m\"\u001b[39m\u001b[38;5;124mMCA\u001b[39m\u001b[38;5;124m\"\u001b[39m)\n\u001b[1;32m----> 3\u001b[0m complex_value\u001b[38;5;241m=\u001b[39m\u001b[38;5;28mcomplex\u001b[39m(tuple_value)\n\u001b[0;32m      4\u001b[0m \u001b[38;5;28mprint\u001b[39m(complex_value)\n",
      "\u001b[1;31mTypeError\u001b[0m: complex() first argument must be a string or a number, not 'tuple'"
     ]
    }
   ],
   "source": [
    "# tuple to complex\n",
    "tuple_value=(\"supriya\", \"putta\", \"MCA\")\n",
    "complex_value=complex(tuple_value)\n",
    "print(complex_value)"
   ]
  },
  {
   "cell_type": "code",
   "execution_count": 4,
   "id": "aef3802f-e6af-4025-b27e-6c2c871ca973",
   "metadata": {},
   "outputs": [
    {
     "name": "stdout",
     "output_type": "stream",
     "text": [
      "True\n"
     ]
    }
   ],
   "source": [
    "# tuple to boolean\n",
    "tuple_value=(\"supriya\", \"putta\", \"MCA\")\n",
    "bool_value=bool(tuple_value)\n",
    "print(bool_value)"
   ]
  },
  {
   "cell_type": "code",
   "execution_count": 5,
   "id": "f69aa5e3-8eaa-4f85-90af-c4e717a89815",
   "metadata": {},
   "outputs": [
    {
     "name": "stdout",
     "output_type": "stream",
     "text": [
      "('supriya', 'putta', 'MCA')\n"
     ]
    }
   ],
   "source": [
    "# tuple to String\n",
    "tuple_value=(\"supriya\", \"putta\", \"MCA\")\n",
    "str_value=str(tuple_value)\n",
    "print(str_value)"
   ]
  },
  {
   "cell_type": "code",
   "execution_count": 6,
   "id": "4d03a5a5-b86d-47bc-9004-2a10ebb2feed",
   "metadata": {},
   "outputs": [
    {
     "name": "stdout",
     "output_type": "stream",
     "text": [
      "['supriya', 'putta', 'MCA']\n"
     ]
    }
   ],
   "source": [
    "# tuple to List\n",
    "tuple_value=(\"supriya\", \"putta\", \"MCA\")\n",
    "list_value=list(tuple_value)\n",
    "print(list_value)"
   ]
  },
  {
   "cell_type": "code",
   "execution_count": 7,
   "id": "421914fa-b252-4f4b-9a1e-002afd2b1267",
   "metadata": {},
   "outputs": [
    {
     "ename": "ValueError",
     "evalue": "dictionary update sequence element #0 has length 7; 2 is required",
     "output_type": "error",
     "traceback": [
      "\u001b[1;31m---------------------------------------------------------------------------\u001b[0m",
      "\u001b[1;31mValueError\u001b[0m                                Traceback (most recent call last)",
      "Cell \u001b[1;32mIn[7], line 3\u001b[0m\n\u001b[0;32m      1\u001b[0m \u001b[38;5;66;03m# tuple to dict\u001b[39;00m\n\u001b[0;32m      2\u001b[0m tuple_value\u001b[38;5;241m=\u001b[39m(\u001b[38;5;124m\"\u001b[39m\u001b[38;5;124msupriya\u001b[39m\u001b[38;5;124m\"\u001b[39m, \u001b[38;5;124m\"\u001b[39m\u001b[38;5;124mputta\u001b[39m\u001b[38;5;124m\"\u001b[39m, \u001b[38;5;124m\"\u001b[39m\u001b[38;5;124mMCA\u001b[39m\u001b[38;5;124m\"\u001b[39m)\n\u001b[1;32m----> 3\u001b[0m dict_value\u001b[38;5;241m=\u001b[39m\u001b[38;5;28mdict\u001b[39m(tuple_value)\n\u001b[0;32m      4\u001b[0m \u001b[38;5;28mprint\u001b[39m(dict_value)\n",
      "\u001b[1;31mValueError\u001b[0m: dictionary update sequence element #0 has length 7; 2 is required"
     ]
    }
   ],
   "source": [
    "# tuple to dict\n",
    "tuple_value=(\"supriya\", \"putta\", \"MCA\")\n",
    "dict_value=dict(tuple_value)\n",
    "print(dict_value)"
   ]
  },
  {
   "cell_type": "markdown",
   "id": "f9909151-f2a5-4f91-9580-758fbede3055",
   "metadata": {},
   "source": [
    "## Dict Conversion"
   ]
  },
  {
   "cell_type": "code",
   "execution_count": null,
   "id": "8518029b-5ec9-4410-b6e7-79bd781813a4",
   "metadata": {},
   "outputs": [],
   "source": []
  }
 ],
 "metadata": {
  "kernelspec": {
   "display_name": "Python 3 (ipykernel)",
   "language": "python",
   "name": "python3"
  },
  "language_info": {
   "codemirror_mode": {
    "name": "ipython",
    "version": 3
   },
   "file_extension": ".py",
   "mimetype": "text/x-python",
   "name": "python",
   "nbconvert_exporter": "python",
   "pygments_lexer": "ipython3",
   "version": "3.11.7"
  }
 },
 "nbformat": 4,
 "nbformat_minor": 5
}
